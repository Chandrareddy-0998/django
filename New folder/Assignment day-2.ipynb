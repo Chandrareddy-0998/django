{
 "cells": [
  {
   "cell_type": "markdown",
   "id": "b4a4fab2-7da9-4cb9-9285-1ec6e878f08d",
   "metadata": {},
   "source": [
    "# Assignment-2"
   ]
  },
  {
   "cell_type": "markdown",
   "id": "f659b45d-c78f-401c-a22f-07cdfa046765",
   "metadata": {},
   "source": [
    "# List"
   ]
  },
  {
   "cell_type": "code",
   "execution_count": 3,
   "id": "e48f2f7a-e595-4826-8faf-ec0fd7f3939a",
   "metadata": {},
   "outputs": [],
   "source": [
    "expenses = [2200, 2350, 2600, 2130, 2190]"
   ]
  },
  {
   "cell_type": "code",
   "execution_count": 5,
   "id": "725ce1c1-f02e-4fa5-9073-66e7e0f932b7",
   "metadata": {},
   "outputs": [
    {
     "name": "stdout",
     "output_type": "stream",
     "text": [
      "Extra dollars spent in February compared to January: 150\n"
     ]
    }
   ],
   "source": [
    "extra_feb = expenses[1] - expenses[0]\n",
    "print(f\"Extra dollars spent in February compared to January: {extra_feb}\")"
   ]
  },
  {
   "cell_type": "code",
   "execution_count": 7,
   "id": "94dd553d-b0e1-4ef7-a71f-d5d6d8e912c4",
   "metadata": {},
   "outputs": [
    {
     "name": "stdout",
     "output_type": "stream",
     "text": [
      "Total expense in the first quarter: 7150\n"
     ]
    }
   ],
   "source": [
    "total_first_quarter = sum(expenses[:3])\n",
    "print(f\"Total expense in the first quarter: {total_first_quarter}\")"
   ]
  },
  {
   "cell_type": "code",
   "execution_count": 9,
   "id": "fc1c0c98-e37a-4571-ad57-25b91b3413aa",
   "metadata": {},
   "outputs": [
    {
     "name": "stdout",
     "output_type": "stream",
     "text": [
      "Spent exactly 2000 dollars in any month: False\n"
     ]
    }
   ],
   "source": [
    "is_2000_spent = 2000 in expenses\n",
    "print(f\"Spent exactly 2000 dollars in any month: {is_2000_spent}\")"
   ]
  },
  {
   "cell_type": "code",
   "execution_count": 11,
   "id": "39adb7ee-d58b-43dc-b1dc-463bf29f4aef",
   "metadata": {},
   "outputs": [
    {
     "name": "stdout",
     "output_type": "stream",
     "text": [
      "Updated expenses after adding June: [2200, 2350, 2600, 2130, 2190, 1980]\n"
     ]
    }
   ],
   "source": [
    "expenses.append(1980)\n",
    "print(f\"Updated expenses after adding June: {expenses}\")"
   ]
  },
  {
   "cell_type": "code",
   "execution_count": 13,
   "id": "2ce2bd4a-a789-45f3-9b95-e18df9b882e9",
   "metadata": {},
   "outputs": [
    {
     "name": "stdout",
     "output_type": "stream",
     "text": [
      "Updated expenses after refund in April: [2200, 2350, 2600, 1930, 2190, 1980]\n"
     ]
    }
   ],
   "source": [
    "expenses[3] -= 200\n",
    "print(f\"Updated expenses after refund in April: {expenses}\")"
   ]
  },
  {
   "cell_type": "code",
   "execution_count": 15,
   "id": "99695596-3841-4f04-b13e-2e91d41ea923",
   "metadata": {},
   "outputs": [
    {
     "data": {
      "text/plain": [
       "[2200, 2350, 2600, 1930, 2190, 1980]"
      ]
     },
     "execution_count": 15,
     "metadata": {},
     "output_type": "execute_result"
    }
   ],
   "source": [
    "[2200, 2350, 2600, 1930, 2190, 1980]"
   ]
  },
  {
   "cell_type": "code",
   "execution_count": 17,
   "id": "da9588f7-7e20-4a50-8ea0-2d6a0e2f5d01",
   "metadata": {},
   "outputs": [],
   "source": [
    "heros = ['spider man', 'thor', 'hulk', 'iron man', 'captain america']"
   ]
  },
  {
   "cell_type": "code",
   "execution_count": 19,
   "id": "2d9cb0dd-4e09-42b0-ba64-e8a27e8198bb",
   "metadata": {},
   "outputs": [
    {
     "name": "stdout",
     "output_type": "stream",
     "text": [
      "Length of the list: 5\n"
     ]
    }
   ],
   "source": [
    "length = len(heros)\n",
    "print(f\"Length of the list: {length}\")"
   ]
  },
  {
   "cell_type": "code",
   "execution_count": 21,
   "id": "696f1d97-122f-4cc9-87f8-2c2bbd273596",
   "metadata": {},
   "outputs": [
    {
     "name": "stdout",
     "output_type": "stream",
     "text": [
      "List after adding 'black panther': ['spider man', 'thor', 'hulk', 'iron man', 'captain america', 'black panther']\n"
     ]
    }
   ],
   "source": [
    "heros.append('black panther')\n",
    "print(f\"List after adding 'black panther': {heros}\")"
   ]
  },
  {
   "cell_type": "code",
   "execution_count": 23,
   "id": "9de83a61-7bfc-43a8-bde8-d645caacd88b",
   "metadata": {},
   "outputs": [
    {
     "name": "stdout",
     "output_type": "stream",
     "text": [
      "List after adding 'black panther' after 'hulk': ['spider man', 'thor', 'hulk', 'black panther', 'iron man', 'captain america']\n"
     ]
    }
   ],
   "source": [
    "heros.remove('black panther')\n",
    "heros.insert(3, 'black panther')\n",
    "print(f\"List after adding 'black panther' after 'hulk': {heros}\")"
   ]
  },
  {
   "cell_type": "code",
   "execution_count": 25,
   "id": "39295343-9384-4137-ac08-dc4bee763a15",
   "metadata": {},
   "outputs": [
    {
     "name": "stdout",
     "output_type": "stream",
     "text": [
      "List after replacing 'thor' and 'hulk' with 'doctor strange': ['spider man', 'doctor strange', 'black panther', 'iron man', 'captain america']\n"
     ]
    }
   ],
   "source": [
    "heros[1:3] = ['doctor strange']\n",
    "print(f\"List after replacing 'thor' and 'hulk' with 'doctor strange': {heros}\")"
   ]
  },
  {
   "cell_type": "code",
   "execution_count": 27,
   "id": "6e6d5fe8-c032-4890-afca-3949214ea52d",
   "metadata": {},
   "outputs": [
    {
     "name": "stdout",
     "output_type": "stream",
     "text": [
      "List in alphabetical order: ['black panther', 'captain america', 'doctor strange', 'iron man', 'spider man']\n"
     ]
    }
   ],
   "source": [
    "heros.sort()\n",
    "print(f\"List in alphabetical order: {heros}\")"
   ]
  },
  {
   "cell_type": "code",
   "execution_count": 29,
   "id": "fdd68564-202d-4854-8d77-f13233bcd2d7",
   "metadata": {},
   "outputs": [
    {
     "data": {
      "text/plain": [
       "['black panther',\n",
       " 'captain america',\n",
       " 'doctor strange',\n",
       " 'iron man',\n",
       " 'spider man']"
      ]
     },
     "execution_count": 29,
     "metadata": {},
     "output_type": "execute_result"
    }
   ],
   "source": [
    "['black panther', 'captain america', 'doctor strange', 'iron man', 'spider man']"
   ]
  },
  {
   "cell_type": "code",
   "execution_count": null,
   "id": "5d367b21-4281-4087-b448-29540308234f",
   "metadata": {},
   "outputs": [],
   "source": []
  }
 ],
 "metadata": {
  "kernelspec": {
   "display_name": "Python 3 (ipykernel)",
   "language": "python",
   "name": "python3"
  },
  "language_info": {
   "codemirror_mode": {
    "name": "ipython",
    "version": 3
   },
   "file_extension": ".py",
   "mimetype": "text/x-python",
   "name": "python",
   "nbconvert_exporter": "python",
   "pygments_lexer": "ipython3",
   "version": "3.12.4"
  }
 },
 "nbformat": 4,
 "nbformat_minor": 5
}
